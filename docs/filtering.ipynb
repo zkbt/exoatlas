{
 "cells": [
  {
   "cell_type": "markdown",
   "metadata": {},
   "source": [
    "# Filtering \n",
    "\n",
    "Let's start from all the transiting exoplanets in the NASA Exoplanet Archive, and then filter down into a `Population` of planets we might want to consider observing. "
   ]
  },
  {
   "cell_type": "code",
   "execution_count": null,
   "metadata": {},
   "outputs": [],
   "source": [
    "import exoatlas as ea\n",
    "\n",
    "ea.version()"
   ]
  },
  {
   "cell_type": "markdown",
   "metadata": {},
   "source": [
    "## Download Exoplanet Data\n",
    "\n",
    "Let's download a recent list of transiting exoplanets from the NASA Exoplanet Archive. We should, as always, be careful not to completely trust every detail of this database. For any particular planet, there's a possibility that details might be wrong or missing so for anything super crucial, it would be very wise to double check. "
   ]
  },
  {
   "cell_type": "code",
   "execution_count": null,
   "metadata": {},
   "outputs": [],
   "source": [
    "e = ea.TransitingExoplanets()"
   ]
  },
  {
   "cell_type": "markdown",
   "metadata": {},
   "source": [
    "Throughout, let's use `physical_summary` to visualize how the various filtering cuts remove planets from our observing sample. "
   ]
  },
  {
   "cell_type": "code",
   "execution_count": null,
   "metadata": {},
   "outputs": [],
   "source": [
    "ea.physical_summary(e);"
   ]
  },
  {
   "cell_type": "markdown",
   "metadata": {},
   "source": [
    "## Define Filtering Criteria\n",
    "\n",
    "Let's make some cuts to this sample in order to select systems that might be worth trying to observe at the telescope. \n"
   ]
  },
  {
   "cell_type": "markdown",
   "metadata": {},
   "source": [
    "### Is it big enough? \n",
    "\n",
    "To ensure that a planet has a hydrogen-dominated atmosphere (which makes interpreting a transmission spectrum a lot easier), we could place a cut on the planet's radius. [\"Most 1.6 Earth-radius planets are not rocky\"](https://ui.adsabs.harvard.edu/abs/2015ApJ...801...41R/abstract), so let's try cutting there. "
   ]
  },
  {
   "cell_type": "code",
   "execution_count": null,
   "metadata": {},
   "outputs": [],
   "source": [
    "import astropy.units as u\n",
    "\n",
    "is_big = e.radius > 1.6 * u.Rearth\n",
    "filtered = e[is_big]\n",
    "filtered"
   ]
  },
  {
   "cell_type": "code",
   "execution_count": null,
   "metadata": {},
   "outputs": [],
   "source": [
    "ea.physical_summary(filtered);"
   ]
  },
  {
   "cell_type": "markdown",
   "metadata": {},
   "source": [
    "### Is the duration short enough? \n",
    "\n",
    "An ideal transit observation would include at least some baseline before the start and after the end of the transit itself. When observing from a ground-based telescope, practically that means it's really hard to observe (complete) transits with durations longer than about a few hours. "
   ]
  },
  {
   "cell_type": "code",
   "execution_count": null,
   "metadata": {},
   "outputs": [],
   "source": [
    "is_short = e.transit_duration < 3 * u.hour\n",
    "filtered = e[is_short]\n",
    "filtered"
   ]
  },
  {
   "cell_type": "code",
   "execution_count": null,
   "metadata": {},
   "outputs": [],
   "source": [
    "ea.physical_summary(filtered);"
   ]
  },
  {
   "cell_type": "markdown",
   "metadata": {},
   "source": [
    "### Is transmission spectroscopy possible? \n",
    "\n",
    "The best precision we could possibly acheive on measuring a transit depth is set by the number of photons that we can gather with our telescope. If the signal we're hoping to detect for transmission spectroscopy (see [Observing](observing.ipynb)) is smaller than that expected precision, it's basically hopeless that we'll see anything. So, let's at least limit our sample to targets with a reasonably high predicted signal-to-noise ratio."
   ]
  },
  {
   "cell_type": "code",
   "execution_count": null,
   "metadata": {},
   "outputs": [],
   "source": [
    "import matplotlib.pyplot as plt\n",
    "import numpy as np\n",
    "\n",
    "signal = e.transmission_signal()\n",
    "wavelength = 0.7 * u.micron\n",
    "dt = 1 * u.hour\n",
    "R = 10\n",
    "noise = e.depth_uncertainty(telescope=\"APO\", wavelength=wavelength, dt=dt, R=R)\n",
    "snr = signal / noise\n",
    "\n",
    "plt.scatter(noise, signal, c=snr, vmin=1, vmax=10)\n",
    "plt.xscale(\"log\")\n",
    "plt.yscale(\"log\")\n",
    "plt.axis(\"scaled\")\n",
    "plt.xlabel(\"\")\n",
    "plt.ylim(1e-6, 1e-2)\n",
    "plt.xlim(1e-6, 1e-2)\n",
    "plt.plot([1e-6, 1e-2], [1e-6, 1e-2])\n",
    "plt.colorbar(label=\"S/N\")\n",
    "plt.xlabel(f\"Predicted Photon Noise\\n($\\lambda=${wavelength}, dt={dt}, R={R})\")\n",
    "plt.ylabel(\"Possible Transmission\\nSignal Size ($2HR_p/R_{\\star}^2$)\");"
   ]
  },
  {
   "cell_type": "code",
   "execution_count": null,
   "metadata": {},
   "outputs": [],
   "source": [
    "is_snr = snr > 5\n",
    "filtered = e[is_snr]\n",
    "filtered"
   ]
  },
  {
   "cell_type": "code",
   "execution_count": null,
   "metadata": {},
   "outputs": [],
   "source": [
    "ea.physical_summary(filtered);"
   ]
  },
  {
   "cell_type": "code",
   "execution_count": null,
   "metadata": {},
   "outputs": [],
   "source": [
    "filtered.name"
   ]
  },
  {
   "cell_type": "markdown",
   "metadata": {},
   "source": [
    "### Is it above the horizon at night? \n",
    "\n",
    "If we're observing at a particular time of year from a particular observatory, only some targets will be high enough in the sky to be observable at night. Let's place a coarse cut on right ascensions and declinations, so we don't waste time considering planets that are beneath the Earth when we're trying to observe. "
   ]
  },
  {
   "cell_type": "code",
   "execution_count": null,
   "metadata": {},
   "outputs": [],
   "source": [
    "from astroplan import Observer\n",
    "from astropy.time import Time\n",
    "\n",
    "date_string = \"2024-09-21\"\n",
    "observatory_string = \"APO\"\n",
    "date = Time(date_string)\n",
    "observatory = Observer.at_site(observatory_string, timezone=\"US/Hawaii\")"
   ]
  },
  {
   "cell_type": "code",
   "execution_count": null,
   "metadata": {},
   "outputs": [],
   "source": [
    "local_midnight = observatory.midnight(date)\n",
    "sidereal_time_at_midnight = observatory.local_sidereal_time(local_midnight)\n",
    "ra_at_midnight = sidereal_time_at_midnight\n",
    "ra_at_midnight"
   ]
  },
  {
   "cell_type": "code",
   "execution_count": null,
   "metadata": {},
   "outputs": [],
   "source": [
    "declination_at_zenith = observatory.latitude\n",
    "declination_at_zenith"
   ]
  },
  {
   "cell_type": "code",
   "execution_count": null,
   "metadata": {},
   "outputs": [],
   "source": [
    "is_dec = np.abs(e.dec - declination_at_zenith) < 60 * u.deg\n",
    "is_ra = np.abs((e.ra - ra_at_midnight).wrap_at(180 * u.deg)) < 6 * u.hourangle\n",
    "\n",
    "filtered = e[is_dec * is_ra]\n",
    "\n",
    "kw = dict(s=2, alpha=0.25)\n",
    "plt.scatter(e.ra, e.dec, **kw)\n",
    "plt.scatter(filtered.ra, filtered.dec, **kw)\n",
    "plt.xlabel(\"Right Ascension (degree)\")\n",
    "plt.ylabel(\"Declination (degree)\")\n",
    "plt.axis(\"scaled\")\n",
    "plt.ylim(-90, 90)\n",
    "plt.xlim(360, 0)\n",
    "plt.title(f\"{observatory_string} | {date_string}\");"
   ]
  },
  {
   "cell_type": "code",
   "execution_count": null,
   "metadata": {},
   "outputs": [],
   "source": [
    "ea.physical_summary(filtered);"
   ]
  },
  {
   "cell_type": "markdown",
   "metadata": {},
   "source": [
    "## Make Target Sample\n",
    "\n",
    "After looking at each of them one by one, let's put all of those filtering criteria together."
   ]
  },
  {
   "cell_type": "code",
   "execution_count": null,
   "metadata": {},
   "outputs": [],
   "source": [
    "targets = e[is_big * is_short * is_snr * is_ra * is_dec]\n",
    "targets"
   ]
  },
  {
   "cell_type": "code",
   "execution_count": null,
   "metadata": {},
   "outputs": [],
   "source": [
    "ea.physical_summary(targets);"
   ]
  },
  {
   "cell_type": "markdown",
   "metadata": {},
   "source": [
    "Let's print out the names of the planets that made it through all our cuts."
   ]
  },
  {
   "cell_type": "code",
   "execution_count": null,
   "metadata": {},
   "outputs": [],
   "source": [
    "print(targets.name)"
   ]
  },
  {
   "cell_type": "markdown",
   "metadata": {},
   "source": [
    "Let's also make a table that includes more useful information, like positions and transit ephemerides, which we could use as an input to plan an observing run."
   ]
  },
  {
   "cell_type": "code",
   "execution_count": null,
   "metadata": {},
   "outputs": [],
   "source": [
    "table = targets.create_planning_table()"
   ]
  },
  {
   "cell_type": "markdown",
   "metadata": {},
   "source": [
    "Let's save that table out to a text file, and also make sure we can load it back in again. "
   ]
  },
  {
   "cell_type": "code",
   "execution_count": null,
   "metadata": {},
   "outputs": [],
   "source": [
    "table.write(\n",
    "    f\"planets-to-observe-{observatory_string}-{date_string}.ecsv\", overwrite=True\n",
    ")"
   ]
  },
  {
   "cell_type": "code",
   "execution_count": null,
   "metadata": {},
   "outputs": [],
   "source": [
    "from astropy.io.ascii import read\n",
    "\n",
    "read(f\"planets-to-observe-{observatory_string}-{date_string}.ecsv\")"
   ]
  }
 ],
 "metadata": {
  "kernelspec": {
   "display_name": "2024",
   "language": "python",
   "name": "python3"
  },
  "language_info": {
   "codemirror_mode": {
    "name": "ipython",
    "version": 3
   },
   "file_extension": ".py",
   "mimetype": "text/x-python",
   "name": "python",
   "nbconvert_exporter": "python",
   "pygments_lexer": "ipython3",
   "version": "3.12.3"
  }
 },
 "nbformat": 4,
 "nbformat_minor": 2
}
