{
    "cells": [
        {
            "cell_type": "markdown",
            "metadata": {},
            "source": [
                "# Creating\n",
                "The primary goal of `exoatlas` is to create populations of exoplanets which which we can interact in fairly standardized way. Here we summarize a few different pre-defined `Population` objects we can create. From all these basic populations, you can make your own to play with by indexing, slicing, or masking as described in [Populations](populations.ipynb). "
            ]
        },
        {
            "cell_type": "code",
            "execution_count": null,
            "metadata": {},
            "outputs": [],
            "source": [
                "import exoatlas as ea\n",
                "import exoatlas.visualizations as vi\n",
                "import astropy.units as u \n",
                "\n",
                "ea.version()"
            ]
        },
        {
            "cell_type": "markdown",
            "metadata": {},
            "source": [
                "Throughout this page we'll use a handy `PlanetGallery()` gallery visualization to see some basic properties of a particular population. For more on useful plots and plotting tools, see [Visualizing](visualizing.html)."
            ]
        },
        {
            "cell_type": "markdown",
            "metadata": {},
            "source": [
                "## `PredefinedPopulation` = commonly useful archival datasets\n",
                "\n",
                "The atlas contains a few predefined populations, for which data are automatically downloaded from archives and standardized into tables in `exoatlas`'s preferred format. This downloading and standardizing can take a while, so the results will be stored locally, in a directory you can locate with:"
            ]
        },
        {
            "cell_type": "code",
            "execution_count": null,
            "metadata": {},
            "outputs": [],
            "source": [
                "ea.locate_local_data()"
            ]
        },
        {
            "cell_type": "markdown",
            "metadata": {},
            "source": [
                "By default, downloaded data will be stored inside your current working directory. If you'll be using `exoatlas` from lots of different directories on your computer, and you don't want to keep downloading fresh copies of the archive into each working directory, you can define one path that should be used for `exoatlas` data for your entire computer by setting a global `EXOATLAS_DATA` environment. For example, on a mid-2020s Mac, this looks like editing the shell configuration file `~/.zshrc` and adding a line like `export EXOATLAS_DATA=\"/Users/zabe0091/exoatlas-data\"`. "
            ]
        },
        {
            "cell_type": "markdown",
            "metadata": {},
            "source": [
                "If you ever want to reset the local data, you do so with:\n",
                "- `ea.reset_local_data()` to remove all local files, including raw downloads \n",
                "- `ea.reset_standardized_data()` to remove standardized files but keep raw downloads \n",
                "\n",
                "If you have recently updated your local version of `exoatlas` and run into problems with data acting weird, you may want to consider doing a data reset."
            ]
        },
        {
            "cell_type": "markdown",
            "metadata": {},
            "source": [
                "### `SolarSystem` = major Solar System planets\n",
                "The eight planets in our own Solar System are useful as a comparison sample. Their properties are built-in with `exoatlas`, so they don't need to be downloaded from any archive."
            ]
        },
        {
            "cell_type": "code",
            "execution_count": null,
            "metadata": {},
            "outputs": [],
            "source": [
                "solar = ea.SolarSystem()\n",
                "solar"
            ]
        },
        {
            "cell_type": "code",
            "execution_count": null,
            "metadata": {},
            "outputs": [],
            "source": [
                "vi.PlanetGallery().build(solar);"
            ]
        },
        {
            "cell_type": "markdown",
            "metadata": {},
            "source": [
                "Likewise, we have the dwarf planets, smaller minor planets, and moons:"
            ]
        },
        {
            "cell_type": "code",
            "execution_count": null,
            "metadata": {},
            "outputs": [],
            "source": [
                "dwarfs = ea.SolarSystemDwarfPlanets()\n",
                "dwarfs"
            ]
        },
        {
            "cell_type": "code",
            "execution_count": null,
            "metadata": {},
            "outputs": [],
            "source": [
                "minor = ea.SolarSystemMinorPlanets()\n",
                "minor"
            ]
        },
        {
            "cell_type": "code",
            "execution_count": null,
            "metadata": {},
            "outputs": [],
            "source": [
                "moons = ea.SolarSystemMoons()\n",
                "moons"
            ]
        },
        {
            "cell_type": "markdown",
            "metadata": {},
            "source": [
                "### `Exoplanets` = confirmed, published, exoplanets\n",
                "The [NASA Exoplanet Archive](https://exoplanetarchive.ipac.caltech.edu) maintains a list of confirmed transiting exoplanets. These are systems that have been published in the peer-reviewed literature. Most of them have been characterized in sufficient detail that they are unlikely to be false positives. This archive contains planets discovered through a variety of methods. We can access *all* exoplanets in the archive, regardless of discovery method, with:"
            ]
        },
        {
            "cell_type": "code",
            "execution_count": null,
            "metadata": {},
            "outputs": [],
            "source": [
                "exoplanets = ea.Exoplanets()\n",
                "exoplanets"
            ]
        },
        {
            "cell_type": "markdown",
            "metadata": {},
            "source": [
                "For many purposes, it will be really handy to have just those exoplanets that transit their stars. To access those:"
            ]
        },
        {
            "cell_type": "code",
            "execution_count": null,
            "metadata": {},
            "outputs": [],
            "source": [
                "transiting = ea.TransitingExoplanets()\n",
                "transiting"
            ]
        },
        {
            "cell_type": "code",
            "execution_count": null,
            "metadata": {},
            "outputs": [],
            "source": [
                "vi.PlanetGallery().build([transiting, solar]);"
            ]
        },
        {
            "cell_type": "markdown",
            "metadata": {},
            "source": [
                "### Subsets\n",
                "Some common subsets have been defined as their own `Population` objects. To make your own subsets, see [Populations](populations.ipynb) for how to filter a sample of planets down according to its properties. "
            ]
        },
        {
            "cell_type": "markdown",
            "metadata": {},
            "source": [
                "Which planets were discovered by the NASA *Kepler* mission or not?"
            ]
        },
        {
            "cell_type": "code",
            "execution_count": null,
            "metadata": {},
            "outputs": [],
            "source": [
                "kepler = ea.Kepler()\n",
                "kepler"
            ]
        },
        {
            "cell_type": "code",
            "execution_count": null,
            "metadata": {},
            "outputs": [],
            "source": [
                "nonkepler = ea.NonKepler()\n",
                "nonkepler"
            ]
        },
        {
            "cell_type": "code",
            "execution_count": null,
            "metadata": {},
            "outputs": [],
            "source": [
                "vi.PlanetGallery().build([kepler, nonkepler, solar]);"
            ]
        },
        {
            "cell_type": "markdown",
            "metadata": {},
            "source": [
                "Which planets were discovered by the NASA *TESS* mission or not?"
            ]
        },
        {
            "cell_type": "code",
            "execution_count": null,
            "metadata": {},
            "outputs": [],
            "source": [
                "tess = ea.TESS()\n",
                "tess"
            ]
        },
        {
            "cell_type": "code",
            "execution_count": null,
            "metadata": {},
            "outputs": [],
            "source": [
                "nontess = ea.NonTESS()\n",
                "nontess"
            ]
        },
        {
            "cell_type": "code",
            "execution_count": null,
            "metadata": {},
            "outputs": [],
            "source": [
                "vi.PlanetGallery().build([nontess, tess, solar]);"
            ]
        },
        {
            "cell_type": "markdown",
            "metadata": {},
            "source": [
                "Which planets were discovered from telescopes in space or telescopes on the ground?"
            ]
        },
        {
            "cell_type": "code",
            "execution_count": null,
            "metadata": {},
            "outputs": [],
            "source": [
                "space = ea.Space()\n",
                "space"
            ]
        },
        {
            "cell_type": "code",
            "execution_count": null,
            "metadata": {},
            "outputs": [],
            "source": [
                "ground = ea.Ground()\n",
                "ground"
            ]
        },
        {
            "cell_type": "code",
            "execution_count": null,
            "metadata": {},
            "outputs": [],
            "source": [
                "vi.PlanetGallery().build([space, ground, solar]);"
            ]
        },
        {
            "cell_type": "markdown",
            "metadata": {},
            "source": [
                "#### Good vs Bad Mass?\n",
                "Which planets have masses that have been detected at better than $5\\sigma$?"
            ]
        },
        {
            "cell_type": "code",
            "execution_count": null,
            "metadata": {},
            "outputs": [],
            "source": [
                "good = ea.GoodMass(sigma=5)\n",
                "good"
            ]
        },
        {
            "cell_type": "code",
            "execution_count": null,
            "metadata": {},
            "outputs": [],
            "source": [
                "bad = ea.BadMass(sigma=5)\n",
                "bad"
            ]
        },
        {
            "cell_type": "code",
            "execution_count": null,
            "metadata": {},
            "outputs": [],
            "source": [
                "vi.PlanetGallery().build([bad, good]);"
            ]
        },
        {
            "cell_type": "markdown",
            "metadata": {},
            "source": [
                "### Collections\n",
                "\n",
                "Because we often might want to load up a bunch of population subsets at once, we provide built-in functions that create dictionaries of planets grouped by particular properties. For example, let's see exoplanets grouped by their original discovery method:"
            ]
        },
        {
            "cell_type": "code",
            "execution_count": null,
            "metadata": {},
            "outputs": [],
            "source": [
                "methods = ea.get_exoplanets_by_method()\n",
                "methods"
            ]
        },
        {
            "cell_type": "code",
            "execution_count": null,
            "metadata": {},
            "outputs": [],
            "source": [
                "vi.PlanetGallery().build(methods);"
            ]
        },
        {
            "cell_type": "code",
            "execution_count": null,
            "metadata": {},
            "outputs": [],
            "source": [
                "teffs = ea.get_exoplanets_by_teff()\n",
                "teffs"
            ]
        },
        {
            "cell_type": "code",
            "execution_count": null,
            "metadata": {},
            "outputs": [],
            "source": [
                "vi.PlanetGallery().build(teffs);"
            ]
        },
        {
            "cell_type": "markdown",
            "metadata": {},
            "source": [
                "All of these populations assume the values quoted in the archive are correct. If you need to update values, or choose values from different references, please see [Curating](curating.ipynb). If you're confident your population is good enough for your needs, you can skip along to [Filtering](filtering.ipynb), [Visualizing](visualizing.ipynb), or [Observing](observing.ipynb)!"
            ]
        }
    ],
    "metadata": {
        "kernelspec": {
            "display_name": "exoatlas",
            "language": "python",
            "name": "python3"
        },
        "language_info": {
            "codemirror_mode": {
                "name": "ipython",
                "version": 3
            },
            "file_extension": ".py",
            "mimetype": "text/x-python",
            "name": "python",
            "nbconvert_exporter": "python",
            "pygments_lexer": "ipython3",
            "version": "3.13.2"
        }
    },
    "nbformat": 4,
    "nbformat_minor": 2
}