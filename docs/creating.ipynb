{
 "cells": [
  {
   "cell_type": "markdown",
   "metadata": {},
   "source": [
    "# Creating\n",
    "The primary goal of `exoatlas` is to create populations of exoplanets which which we can interact in fairly standardized way. Here we summarize a few different pre-defined `Population` objects we can create. "
   ]
  },
  {
   "cell_type": "code",
   "execution_count": null,
   "metadata": {},
   "outputs": [],
   "source": [
    "import exoatlas as ea\n",
    "import astropy.units as u \n",
    "\n",
    "ea.version()"
   ]
  },
  {
   "cell_type": "markdown",
   "metadata": {},
   "source": [
    "## `PredefinedPopulation` = commonly useful archival datasets\n",
    "\n",
    "The atlas contains a few predefined populations, for which data are automatically downloaded from archives and standardized into tables in `exoatlas`'s preferred format. This downloading and standardizing can take a while, so the results will be stored locally, in a directory you can locate with:"
   ]
  },
  {
   "cell_type": "code",
   "execution_count": null,
   "metadata": {},
   "outputs": [],
   "source": [
    "ea.locate_local_data()"
   ]
  },
  {
   "cell_type": "markdown",
   "metadata": {},
   "source": [
    "If you ever want to reset the local data, you do so either with `reset_local_data()` (remove all local files) or `reset_standardized_data()` (remove standardized files but keep raw downloads). If you have recently updated your local version of `exoatlas`, or "
   ]
  },
  {
   "cell_type": "markdown",
   "metadata": {},
   "source": [
    "Throughout this page we'll use handy `physical_summary()` wrapper as a way to visualize some of the basic properties of a particular population. For more on useful plots and plotting tools, see [Visualizing](visualizing.html)."
   ]
  },
  {
   "cell_type": "markdown",
   "metadata": {},
   "source": [
    "### `SolarSystem` = major Solar System planets\n",
    "The eight planets in our own Solar System are useful as a comparison sample. Their properties are built-in with `exoatlas`, so they don't need to be downloaded from any archive."
   ]
  },
  {
   "cell_type": "code",
   "execution_count": null,
   "metadata": {},
   "outputs": [],
   "source": [
    "solar = ea.SolarSystem()\n",
    "solar"
   ]
  },
  {
   "cell_type": "code",
   "execution_count": null,
   "metadata": {},
   "outputs": [],
   "source": [
    "ea.physical_summary(solar);"
   ]
  },
  {
   "cell_type": "markdown",
   "metadata": {},
   "source": [
    "Likewise, we have the dwarf planets, smaller minor planets, and moons:"
   ]
  },
  {
   "cell_type": "code",
   "execution_count": null,
   "metadata": {},
   "outputs": [],
   "source": [
    "dwarfs = ea.SolarSystemDwarfPlanets()\n",
    "dwarfs"
   ]
  },
  {
   "cell_type": "code",
   "execution_count": null,
   "metadata": {},
   "outputs": [],
   "source": [
    "minor = ea.SolarSystemMinorPlanets()\n",
    "minor"
   ]
  },
  {
   "cell_type": "code",
   "execution_count": null,
   "metadata": {},
   "outputs": [],
   "source": [
    "moons = ea.SolarSystemMoons()\n",
    "moons"
   ]
  },
  {
   "cell_type": "markdown",
   "metadata": {},
   "source": [
    "### `Exoplanets` = confirmed, published, exoplanets\n",
    "The [NASA Exoplanet Archive](https://exoplanetarchive.ipac.caltech.edu) maintains a list of confirmed transiting exoplanets. These are systems that have been published in the peer-reviewed literature. Most of them have been characterized in sufficient detail that they are unlikely to be false positives. \n",
    "\n",
    "This archive contains planets discovered through a variety of methods. We can access *all* exoplanets in the archive, regardless of discovery method, with:"
   ]
  },
  {
   "cell_type": "code",
   "execution_count": null,
   "metadata": {},
   "outputs": [],
   "source": [
    "exoplanets = ea.Exoplanets()\n",
    "exoplanets"
   ]
  },
  {
   "cell_type": "markdown",
   "metadata": {},
   "source": [
    "For many purposes, it will be really handy to have just those exoplanets that transit their stars. To access those:"
   ]
  },
  {
   "cell_type": "code",
   "execution_count": null,
   "metadata": {},
   "outputs": [],
   "source": [
    "transiting = ea.TransitingExoplanets()\n",
    "transiting"
   ]
  },
  {
   "cell_type": "code",
   "execution_count": null,
   "metadata": {},
   "outputs": [],
   "source": [
    "ea.physical_summary(transiting);"
   ]
  },
  {
   "cell_type": "markdown",
   "metadata": {},
   "source": [
    "#### Kepler vs. Non-Kepler\n",
    "Which planets were discovered by Kepler or not?"
   ]
  },
  {
   "cell_type": "code",
   "execution_count": null,
   "metadata": {},
   "outputs": [],
   "source": [
    "kepler = ea.Kepler()\n",
    "kepler"
   ]
  },
  {
   "cell_type": "code",
   "execution_count": null,
   "metadata": {},
   "outputs": [],
   "source": [
    "nonkepler = ea.NonKepler()\n",
    "nonkepler"
   ]
  },
  {
   "cell_type": "code",
   "execution_count": null,
   "metadata": {},
   "outputs": [],
   "source": [
    "ea.physical_summary([kepler, nonkepler]);"
   ]
  },
  {
   "cell_type": "markdown",
   "metadata": {},
   "source": [
    "#### TESS vs. Non-TESS\n",
    "Which planets were discovered by TESS or not?"
   ]
  },
  {
   "cell_type": "code",
   "execution_count": null,
   "metadata": {},
   "outputs": [],
   "source": [
    "tess = ea.TESS()\n",
    "tess"
   ]
  },
  {
   "cell_type": "code",
   "execution_count": null,
   "metadata": {},
   "outputs": [],
   "source": [
    "nontess = ea.NonTESS()\n",
    "nontess"
   ]
  },
  {
   "cell_type": "code",
   "execution_count": null,
   "metadata": {},
   "outputs": [],
   "source": [
    "ea.physical_summary([nontess, tess]);"
   ]
  },
  {
   "cell_type": "markdown",
   "metadata": {},
   "source": [
    "#### Space vs. Ground\n",
    "Which planets were discovered from telescopes in space or telescopes on the ground?"
   ]
  },
  {
   "cell_type": "code",
   "execution_count": null,
   "metadata": {},
   "outputs": [],
   "source": [
    "space = ea.Space()\n",
    "space"
   ]
  },
  {
   "cell_type": "code",
   "execution_count": null,
   "metadata": {},
   "outputs": [],
   "source": [
    "ground = ea.Ground()\n",
    "ground"
   ]
  },
  {
   "cell_type": "code",
   "execution_count": null,
   "metadata": {},
   "outputs": [],
   "source": [
    "ea.physical_summary([space, ground]);"
   ]
  },
  {
   "cell_type": "markdown",
   "metadata": {},
   "source": [
    "#### Good vs Bad Mass?\n",
    "Which planets have masses that have been detected at better than $2.5\\sigma$?"
   ]
  },
  {
   "cell_type": "code",
   "execution_count": null,
   "metadata": {},
   "outputs": [],
   "source": [
    "good = ea.GoodMass(sigma=2.5)\n",
    "good"
   ]
  },
  {
   "cell_type": "code",
   "execution_count": null,
   "metadata": {},
   "outputs": [],
   "source": [
    "bad = ea.BadMass(sigma=2.5)\n",
    "bad"
   ]
  },
  {
   "cell_type": "code",
   "execution_count": null,
   "metadata": {},
   "outputs": [],
   "source": [
    "ea.physical_summary([bad, good]);"
   ]
  },
  {
   "cell_type": "markdown",
   "metadata": {},
   "source": [
    "From all these basic populations, you can make your own to play with by indexing, slicing, or masking as described in [Exploring](exploring.ipynb). Have fun!"
   ]
  }
 ],
 "metadata": {
  "kernelspec": {
   "display_name": "2024",
   "language": "python",
   "name": "python3"
  },
  "language_info": {
   "codemirror_mode": {
    "name": "ipython",
    "version": 3
   },
   "file_extension": ".py",
   "mimetype": "text/x-python",
   "name": "python",
   "nbconvert_exporter": "python",
   "pygments_lexer": "ipython3",
   "version": "3.12.3"
  }
 },
 "nbformat": 4,
 "nbformat_minor": 2
}
