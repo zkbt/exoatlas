{
 "cells": [
  {
   "cell_type": "markdown",
   "metadata": {},
   "source": [
    "# Exporing the NASA Exoplanet Archive Tables \n",
    "\n",
    "The NASA Exoplanet Archive thoughtfully and painstakingly describes [the data columns](https://exoplanetarchive.ipac.caltech.edu/docs/API_PS_columns.html) it contains, as well as [how they merge the bazillions of different measurements from different references](https://exoplanetarchive.ipac.caltech.edu/docs/pscp_calc.html). \n",
    "\n",
    "*Here, we explore some visualizations of how the Planetary Systems (one row per reference) and Planetary Systems Composite (one row per planet) tables compare to one another. This is a very crude overview, designed mostly to help with weird nitty gritty internal decision making for the `exoatlas`. We include these in the documentation because it's useful to see these plots generated regularly as the Exoplanet Archive grows, but we hide it away at the end because we don't explain things particularly well (yet?).*"
   ]
  },
  {
   "cell_type": "code",
   "execution_count": null,
   "metadata": {},
   "outputs": [],
   "source": [
    "from exoatlas import * \n",
    "explorer = NASAExoplanetArchiveComparison()"
   ]
  },
  {
   "cell_type": "markdown",
   "metadata": {},
   "source": [
    "## What's in which table? \n",
    "\n",
    "First, let's take a few parameters to see how the contents of the Planetary Systems Composite Parameters table to the complete contents of the Planetary Systems table from which it is derived. Entirely (and foolishly) negelecting uncertainties on values and which values are limits, let's make some plots indicating the complete set of values that appear in `ps` for each planet + parameter in `pscomppars`."
   ]
  },
  {
   "cell_type": "code",
   "execution_count": null,
   "metadata": {},
   "outputs": [],
   "source": [
    "explorer.do_completeness_check()"
   ]
  },
  {
   "cell_type": "markdown",
   "metadata": {},
   "source": [
    "## "
   ]
  },
  {
   "cell_type": "markdown",
   "metadata": {},
   "source": [
    "## Are there weird unit problems? \n",
    "\n",
    "Weirdly, for some planets we'll get different answers whether we ingest the planet quantities like mass and radius in Earth units or in Jupiter units. This might be caused by units and/or rounding errors in the papers that got ingested into the archive. It's probably good to be aware of!"
   ]
  },
  {
   "cell_type": "code",
   "execution_count": null,
   "metadata": {},
   "outputs": [],
   "source": [
    "explorer.do_units_check()"
   ]
  },
  {
   "cell_type": "markdown",
   "metadata": {},
   "source": [
    "## Do masses and radii make sense? \n",
    "\n",
    "In the Planetary Systems Composite Parameters table, the archive calculates [mass and radius estimates for planets that don't have measurements from an empirical mass-radius relationship](https://exoplanetarchive.ipac.caltech.edu/docs/pscp_calc.html). An easy way to remove those theoretical estimates, is to eliminate values that don't have finite uncertainties associated with them. All measurements should have uncertainties! I believe this cut also removes some upper/lower limits (but don't quote me on that, yet)."
   ]
  },
  {
   "cell_type": "code",
   "execution_count": null,
   "metadata": {},
   "outputs": [],
   "source": [
    "explorer.do_mass_radius_check()"
   ]
  },
  {
   "cell_type": "markdown",
   "metadata": {},
   "source": [
    "## Are stellar luminosities, radii, and effective temperatures consistent?"
   ]
  },
  {
   "cell_type": "markdown",
   "metadata": {},
   "source": [
    "## Are composite transit periods and midpoints safe to use? "
   ]
  },
  {
   "cell_type": "code",
   "execution_count": null,
   "metadata": {},
   "outputs": [],
   "source": []
  }
 ],
 "metadata": {
  "kernelspec": {
   "display_name": "2024",
   "language": "python",
   "name": "python3"
  },
  "language_info": {
   "codemirror_mode": {
    "name": "ipython",
    "version": 3
   },
   "file_extension": ".py",
   "mimetype": "text/x-python",
   "name": "python",
   "nbconvert_exporter": "python",
   "pygments_lexer": "ipython3",
   "version": "3.12.3"
  }
 },
 "nbformat": 4,
 "nbformat_minor": 2
}
