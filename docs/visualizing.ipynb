{
 "cells": [
  {
   "cell_type": "markdown",
   "metadata": {},
   "source": [
    "# Visualizing\n",
    "\n",
    "We often want to visualize one or more exoplanet populations in fairly standard ways. Here we summarize some predefined visualizations for populations and explain how you can create your own multi-panel, multi-population visualizations with `exoatlas`."
   ]
  },
  {
   "cell_type": "markdown",
   "metadata": {},
   "source": [
    "🥺 Ha! Sorry! Nothing's been written here yet! 🥺\n",
    "\n",
    "+ Include the default mega-plots of lots of panels.\n",
    "+ Explain how to use individual panels (`MassRadius`).\n",
    "+ Explain how to define your own panels.\n",
    "+ Include easy wrapper/tutorial for making your own multi-panel plots.\n",
    "+ Fix thumbtack plots, and show how to make movies.\n"
   ]
  }
 ],
 "metadata": {
  "kernelspec": {
   "display_name": "Python 3",
   "language": "python",
   "name": "python3"
  },
  "language_info": {
   "codemirror_mode": {
    "name": "ipython",
    "version": 3
   },
   "file_extension": ".py",
   "mimetype": "text/x-python",
   "name": "python",
   "nbconvert_exporter": "python",
   "pygments_lexer": "ipython3",
   "version": "3.6.3"
  }
 },
 "nbformat": 4,
 "nbformat_minor": 2
}
