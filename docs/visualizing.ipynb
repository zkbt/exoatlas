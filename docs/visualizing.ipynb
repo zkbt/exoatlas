{
 "cells": [
  {
   "cell_type": "markdown",
   "metadata": {},
   "source": [
    "# Visualizing\n",
    "\n",
    "We often want to visualize one or more exoplanet populations in fairly standard ways. Here we summarize some predefined visualizations for populations and explain how you can create your own multi-panel, multi-population visualizations with `exoatlas`."
   ]
  },
  {
   "cell_type": "code",
   "execution_count": null,
   "metadata": {},
   "outputs": [],
   "source": [
    "from exoatlas import * \n",
    "version() "
   ]
  },
  {
   "cell_type": "markdown",
   "metadata": {},
   "source": [
    "We'll be making lots of plots here, so let's give them a wide aspect ratio, so they don't take up too much space."
   ]
  },
  {
   "cell_type": "code",
   "execution_count": null,
   "metadata": {},
   "outputs": [],
   "source": [
    "plt.rcParams['figure.figsize'] = (8,3)"
   ]
  },
  {
   "cell_type": "markdown",
   "metadata": {},
   "source": [
    "Let's generate some populations to visualize."
   ]
  },
  {
   "cell_type": "code",
   "execution_count": null,
   "metadata": {},
   "outputs": [],
   "source": [
    "exoplanets = TransitingExoplanets()\n",
    "solar = SolarSystem()"
   ]
  },
  {
   "cell_type": "markdown",
   "metadata": {},
   "source": [
    "## Make Your Own Plots with `exoatlas` Data"
   ]
  },
  {
   "cell_type": "markdown",
   "metadata": {},
   "source": [
    "It is, of course, possible to make your own plots using data from `exoatlas` populations. You probably have some brilliant idea, and just working with the raw quantities might be where you want to start. Here's a basic example."
   ]
  },
  {
   "cell_type": "code",
   "execution_count": null,
   "metadata": {},
   "outputs": [],
   "source": [
    "# plot the exoplanets \n",
    "x = exoplanets.relative_insolation()\n",
    "y = exoplanets.radius()\n",
    "plt.scatter(x, y, marker='.', s=5, alpha=0.5)\n",
    "\n",
    "# plot the Solar System planets \n",
    "x = solar.relative_insolation()\n",
    "y = solar.radius()\n",
    "plt.scatter(x, y, marker='s', s=30, color='black')\n",
    "\n",
    "# adjust the plotting details\n",
    "plt.xscale('log')\n",
    "plt.yscale('log')\n",
    "plt.xlabel('Bolometric Flux (relative to Earth)')\n",
    "plt.ylabel('Planet Radius (Earth radii)')\n",
    "plt.xlim(1e5, 1e-5);"
   ]
  },
  {
   "cell_type": "code",
   "execution_count": null,
   "metadata": {},
   "outputs": [],
   "source": [
    "# plot the exoplanets with uncertainties\n",
    "x = exoplanets.relative_insolation()\n",
    "y = exoplanets.radius()\n",
    "x_error = exoplanets.relative_insolation_uncertainty_lowerupper()\n",
    "y_error = exoplanets.radius_uncertainty_lowerupper()\n",
    "plt.errorbar(x, y, xerr=x_error, yerr=y_error, linewidth=0, elinewidth=1, alpha=0.5)\n",
    "\n",
    "# plot the Solar System planets \n",
    "x = solar.relative_insolation()\n",
    "y = solar.radius()\n",
    "plt.scatter(x, y, marker='s', s=30, color='black')\n",
    "\n",
    "# adjust the plotting details\n",
    "plt.xscale('log')\n",
    "plt.yscale('log')\n",
    "plt.xlabel('Bolometric Flux (relative to Earth)')\n",
    "plt.ylabel('Planet Radius (Earth radii)')\n",
    "plt.xlim(1e5, 1e-5);"
   ]
  },
  {
   "cell_type": "markdown",
   "metadata": {},
   "source": [
    "You can build up whatever beautiful, transparent, creative, and useful visualizations you want on your own. \n",
    "\n",
    "However, often we may want to fill a panel with multiple different planet populations, and maybe even across multiple linked plots. That can be a little annoying to keep track of, so we tried to add a few shortcuts to make it easier to sets of quantities for groups of populations. "
   ]
  },
  {
   "cell_type": "markdown",
   "metadata": {},
   "source": [
    "## Make Visualizations using `Plottable` and `Panel`\n",
    "\n",
    "We provide two core types of objects to help with visualizing: \n",
    "- `Plottable` define basics of how to present data for one quantity \n",
    "- `Panel` combines multiple `Plottable` objects together to make a plot\n",
    "\n",
    "The main advantages of working with these `Plottable` + `Panel` tools might be that:\n",
    "- they set reasonably useful defaults for many common quantities \n",
    "- they can be used to loop over multiple populations, each with its own style \n",
    "- they make up some common built-in visualizations that you might want to use or modify"
   ]
  },
  {
   "cell_type": "code",
   "execution_count": null,
   "metadata": {},
   "outputs": [],
   "source": [
    "from exoatlas.visualizations import * "
   ]
  },
  {
   "cell_type": "markdown",
   "metadata": {},
   "source": [
    "### 📏 `Plottable` objects prepare data for visualization 📏\n",
    "\n",
    "To get data ready for visualizing, a `Plottable` will generally define some of the following:\n",
    "- `source` = where does the quantity come from? This should be the name of a method that's available for all the populations you might want to use. \n",
    "- `label` = a human-friendly label. This may appear as axis labels or in figure legends. \n",
    "- `scale` = are the data better displayed linearly or logarithmically? This will set the scale for x or y axes, or how colors or sizes are normalized. \n",
    "- `lim` = what are reasonable limits? This would set default axis limits, or how colors and sizes are define their minimum and maximum values.\n",
    "- `**kw` = if `source` is a method that takes keyword arguments (such as `teq(albedo=..., f=...)`), any additional keywords you provide when creating a `Plottable` will get passed along to the method\n",
    "\n",
    "Let's create a few:"
   ]
  },
  {
   "cell_type": "code",
   "execution_count": null,
   "metadata": {},
   "outputs": [],
   "source": [
    "# specify everything \n",
    "radius = Plottable(source='radius', \n",
    "                   label='Planet Radius (Earth radii)', \n",
    "                   scale='log', \n",
    "                   lim=[0.3, 30], \n",
    "                   unit=u.Rearth)\n",
    "\n",
    "# leave scale and limits as None, for auto-scaling\n",
    "distance = Plottable(source='distance', \n",
    "                     label='Distance (pc)')\n",
    "\n",
    "# define scale and limits, but don't worry about a fancy label\n",
    "teff = Plottable(source='stellar_teff', scale='log', lim=[2500, 7500])\n",
    "\n",
    "# pass keyword \"wavelength\" to quantity method \n",
    "brightness = Plottable(source='stellar_brightness',\n",
    "                       scale='linear', lim=[1e3, 1e9],\n",
    "                       wavelength=1*u.micron)\n"
   ]
  },
  {
   "cell_type": "markdown",
   "metadata": {},
   "source": [
    "We indicate these variable as `Plottable` by a little ruler 📏, indicating each is ready to draw some data at the right locations on a plot. "
   ]
  },
  {
   "cell_type": "code",
   "execution_count": null,
   "metadata": {},
   "outputs": [],
   "source": [
    "radius, distance, brightness, teff"
   ]
  },
  {
   "cell_type": "markdown",
   "metadata": {},
   "source": [
    "For a given population, it can retrieve values and symmetric or asymmetric uncertainties."
   ]
  },
  {
   "cell_type": "code",
   "execution_count": null,
   "metadata": {},
   "outputs": [],
   "source": [
    "radius.value(exoplanets)"
   ]
  },
  {
   "cell_type": "code",
   "execution_count": null,
   "metadata": {},
   "outputs": [],
   "source": [
    "radius.uncertainty(exoplanets)"
   ]
  },
  {
   "cell_type": "code",
   "execution_count": null,
   "metadata": {},
   "outputs": [],
   "source": [
    "radius.uncertainty_lowerupper(exoplanets)"
   ]
  },
  {
   "cell_type": "markdown",
   "metadata": {},
   "source": [
    "We can also calculate normalized values, which may be useful for representing sizes or colors. The normalization will pay attention to the `scale` and `lim` keywords. "
   ]
  },
  {
   "cell_type": "code",
   "execution_count": null,
   "metadata": {},
   "outputs": [],
   "source": [
    "brightness.value(exoplanets)"
   ]
  },
  {
   "cell_type": "code",
   "execution_count": null,
   "metadata": {},
   "outputs": [],
   "source": [
    "brightness.normalized_value(exoplanets)"
   ]
  },
  {
   "cell_type": "markdown",
   "metadata": {},
   "source": [
    "If we wanted to stop here, we could use these three `Plottable` objects to help create a plot. Practically, this isn't much different from just making the plot ourselves from the raw data; basically it's just the size normalization that's helping. "
   ]
  },
  {
   "cell_type": "code",
   "execution_count": null,
   "metadata": {},
   "outputs": [],
   "source": [
    "mass_limit =  0.5*u.Msun\n",
    "is_lowmass = exoplanets.stellar_mass() < mass_limit\n",
    "highmass = exoplanets[is_lowmass == False]\n",
    "highmass.label = f'> {mass_limit}'\n",
    "lowmass = exoplanets[is_lowmass]\n",
    "lowmass.label = f'< {mass_limit}'\n",
    "\n",
    "plt.figure()\n",
    "for pop in [highmass, lowmass]:\n",
    "    x = distance.value(pop)\n",
    "    y = radius.value(pop)\n",
    "    s = brightness.normalized_value(pop)*1000\n",
    "    plt.scatter(x, y, s=s, label=pop.label)\n",
    "plt.xscale('log')\n",
    "plt.yscale('log')\n",
    "plt.xlabel(distance.label)\n",
    "plt.ylabel(radius.label)\n",
    "plt.legend(frameon=False, loc='upper left', bbox_to_anchor=(1,1));\n"
   ]
  },
  {
   "cell_type": "markdown",
   "metadata": {},
   "source": [
    "### 🖼️ `Panel` draws plots with `Plottable` objects 🖼️\n",
    "\n",
    "With a `Panel`, we can combine a few `Plottable` objects together to build up a plot. The `Panel` is responsible for:\n",
    "- managing the figure and axes where data will be drawn\n",
    "- looping over populations and representing them \n",
    "- serving as a building block for multi-panel linked visualizations"
   ]
  },
  {
   "cell_type": "markdown",
   "metadata": {},
   "source": [
    "#### `BubblePanel` for x, y, size, color\n",
    "\n",
    "For basic scatter plots, we might try `BubblePanel`, where the four ways we might represent data are: \n",
    "- `xaxis` = bubble position along the x-axis \n",
    "- `yaxis` = bubble position along the y-axis \n",
    "- `size` = bubble area, based on `normalized_value`\n",
    "- `color` = bubble color, based on `normalized_value`, according to a colormap\n",
    "\n",
    "\n",
    "Let's try this with a basic example. We create a `Panel` (🖼️) from two `Plottable` (📏) objects. We can use this `Panel` to plot individual populations one-by-one with `plot()`..."
   ]
  },
  {
   "cell_type": "code",
   "execution_count": null,
   "metadata": {},
   "outputs": [],
   "source": [
    "panel = BubblePanel(xaxis=distance, yaxis=radius)\n",
    "panel.plot(highmass)\n",
    "panel.plot(lowmass)\n",
    "plt.legend();"
   ]
  },
  {
   "cell_type": "markdown",
   "metadata": {},
   "source": [
    " ...or use `build()` to build up the plot by looping over populations."
   ]
  },
  {
   "cell_type": "code",
   "execution_count": null,
   "metadata": {},
   "outputs": [],
   "source": [
    "panel = BubblePanel(xaxis=distance, yaxis=radius)\n",
    "panel.build([highmass, lowmass])\n",
    "plt.legend();"
   ]
  },
  {
   "cell_type": "markdown",
   "metadata": {},
   "source": [
    "Let's use one more data dimension by having the size represent the brightness of the star as seen from Earth, using color simply to represent the two different populations."
   ]
  },
  {
   "cell_type": "code",
   "execution_count": null,
   "metadata": {},
   "outputs": [],
   "source": [
    "bubble = BubblePanel(xaxis=distance, yaxis=radius, size=brightness, color=None)\n",
    "bubble.build([highmass, lowmass])\n",
    "plt.legend();"
   ]
  },
  {
   "cell_type": "markdown",
   "metadata": {},
   "source": [
    "Or, if we're focusing primarily on one `Population`, we might use color to represent another quantity. In the plot below, we can see that while stellar brightness at Earth (size) generally increases toward closer distances, stars with cooler stellar effective temperatures (color) have lower intrinsic luminosities and therefore appear less bright, even at nearby distances. "
   ]
  },
  {
   "cell_type": "code",
   "execution_count": null,
   "metadata": {},
   "outputs": [],
   "source": [
    "bubble = BubblePanel(xaxis=distance, yaxis=radius, size=brightness, color=teff)\n",
    "bubble.plot(exoplanets)\n"
   ]
  },
  {
   "cell_type": "markdown",
   "metadata": {},
   "source": [
    "#### `ErrorPanel` for x, y with uncertainties\n",
    "\n",
    "Including errorbars on exoplanet population data can get tricky because planets can have wildly heteroscedastic uncertainties. If we just plot errorbars for all data points equally, our eyes are visually drawn to the largest uncertainties, while we'd like them to do the opposite: focus in on the best data! As such, in the `ErrorPanel` we by default scale the intensity of errorbars to visually emphasize the points with the smallest uncertainties. "
   ]
  },
  {
   "cell_type": "code",
   "execution_count": null,
   "metadata": {},
   "outputs": [],
   "source": [
    "error = ErrorPanel(xaxis=distance, yaxis=radius)\n",
    "error.plot(exoplanets)"
   ]
  },
  {
   "cell_type": "markdown",
   "metadata": {},
   "source": [
    "### 🖼️ `Gallery` collects `Panel` together 🖼️\n",
    "\n",
    "Often, we may want to look at multple plots side-by-side, to see how trends in one view might relate to other properties. A `Gallery` can be built up from a collection of `Panel` objects, like this."
   ]
  },
  {
   "cell_type": "code",
   "execution_count": null,
   "metadata": {},
   "outputs": [],
   "source": [
    "neat_planet = exoplanets['HD209458b']\n",
    "neat_planet.color='magenta'\n",
    "neat_planet.s=400\n",
    "neat_planet.zorder=1e20\n",
    "neat_planet.alpha=1\n",
    "neat_planet.bubble_anyway=True\n",
    "neat_planet.outlined=True \n",
    "neat_planet.filled=False\n"
   ]
  },
  {
   "cell_type": "code",
   "execution_count": null,
   "metadata": {},
   "outputs": [],
   "source": [
    "row = Gallery() \n",
    "row.build_panels([exoplanets, solar, neat_planet])"
   ]
  },
  {
   "cell_type": "code",
   "execution_count": null,
   "metadata": {},
   "outputs": [],
   "source": [
    "physical = physical_summary() \n",
    "physical.build_panels([exoplanets, solar, neat_planet])"
   ]
  },
  {
   "cell_type": "markdown",
   "metadata": {},
   "source": [
    "## Built-in Multipanel Visualizations \n",
    "`exoatlas` has a few pre-defined visualizations. The quickest way to dive into visualizing your exoplanet population might be to start with one of these. Below, we show you how to build up your own visualizations from scratch."
   ]
  },
  {
   "cell_type": "code",
   "execution_count": null,
   "metadata": {},
   "outputs": [],
   "source": []
  },
  {
   "cell_type": "code",
   "execution_count": null,
   "metadata": {},
   "outputs": [],
   "source": [
    "exoplanets.color"
   ]
  },
  {
   "cell_type": "code",
   "execution_count": null,
   "metadata": {},
   "outputs": [],
   "source": [
    "#observable_summary([exoplanets, solar]);"
   ]
  },
  {
   "cell_type": "code",
   "execution_count": null,
   "metadata": {},
   "outputs": [],
   "source": [
    "from exoatlas import * \n",
    "from exoatlas.visualizations import * \n",
    "\n",
    "class StellarBrightness(Plottable):\n",
    "    source='stellar_brightness'\n",
    "    scale = \"log\"\n",
    "    lim = [None, None]  # [1e2, 1e8]\n",
    "    unit = u.Unit((\"ph s^-1 m^-2 micron^-1\"))\n",
    "\n",
    "    def __init__(self, **kw):\n",
    "        \"\"\"\n",
    "        Initialize for a particular wavelength, because the\n",
    "        eclipse depth will depend on the thermal emission\n",
    "        spectrum of the planet and star.\n",
    "        \"\"\"\n",
    "        Plottable.__init__(self, **kw)\n",
    "\n",
    "        # set up the units\n",
    "        self.unit = u.Unit((\"ph s^-1 m^-2 micron^-1\"))\n",
    "        self.unit_string = \"photons/s/m$^2$/$\\mu$m\"\n",
    "\n",
    "        # set the label\n",
    "        self.label = f'Stellar Brightness at Earth at $\\lambda={self.kw['wavelength'].to(\"micron\").value:.1f}\\mu$m\\n({self.unit_string})'\n"
   ]
  },
  {
   "cell_type": "code",
   "execution_count": null,
   "metadata": {},
   "outputs": [],
   "source": [
    "e = TransitingExoplanets() \n",
    "b = StellarBrightness(wavelength=5*u.micron)\n",
    "b.value(e), b.label"
   ]
  },
  {
   "cell_type": "code",
   "execution_count": null,
   "metadata": {},
   "outputs": [],
   "source": [
    "b = StellarBrightness(wavelength=1*u.micron)\n",
    "b.value(e), b.label"
   ]
  },
  {
   "cell_type": "code",
   "execution_count": null,
   "metadata": {},
   "outputs": [],
   "source": [
    "cmap = plt.matplotlib.colormaps['gray']\n"
   ]
  },
  {
   "cell_type": "code",
   "execution_count": null,
   "metadata": {},
   "outputs": [],
   "source": [
    "cmap([2, 5, 10])"
   ]
  },
  {
   "cell_type": "code",
   "execution_count": null,
   "metadata": {},
   "outputs": [],
   "source": [
    "\n",
    "a = vi.BubblePanel(xaxis=vi.StellarRadius, \n",
    "                   yaxis=vi.Radius, \n",
    "                   color=vi.Teq,\n",
    "                   size=vi.StellarBrightness(wavelength=1*u.micron))\n",
    "\n",
    "b = vi.BubblePanel(xaxis=vi.StellarRadius, \n",
    "                   yaxis=vi.Mass, \n",
    "                   color=vi.Teq,\n",
    "                   size=vi.StellarBrightness(wavelength=1*u.micron))\n",
    "\n",
    "g = vi.Gallery(panels=[a,b], horizontal=False)\n",
    "g.build_panels([exoplanets])\n"
   ]
  },
  {
   "cell_type": "code",
   "execution_count": null,
   "metadata": {},
   "outputs": [],
   "source": []
  }
 ],
 "metadata": {
  "kernelspec": {
   "display_name": "exoatlas",
   "language": "python",
   "name": "python3"
  },
  "language_info": {
   "codemirror_mode": {
    "name": "ipython",
    "version": 3
   },
   "file_extension": ".py",
   "mimetype": "text/x-python",
   "name": "python",
   "nbconvert_exporter": "python",
   "pygments_lexer": "ipython3",
   "version": "3.13.2"
  }
 },
 "nbformat": 4,
 "nbformat_minor": 2
}
