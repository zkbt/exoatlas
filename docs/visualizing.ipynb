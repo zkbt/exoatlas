{
 "cells": [
  {
   "cell_type": "markdown",
   "metadata": {},
   "source": [
    "# Visualizing\n",
    "\n",
    "We often want to visualize one or more exoplanet populations in fairly standard ways. Here we summarize some predefined visualizations for populations and explain how you can create your own multi-panel, multi-population visualizations with `exoatlas`."
   ]
  },
  {
   "cell_type": "code",
   "execution_count": null,
   "metadata": {},
   "outputs": [],
   "source": [
    "from exoatlas import * \n",
    "version() "
   ]
  },
  {
   "cell_type": "code",
   "execution_count": null,
   "metadata": {},
   "outputs": [],
   "source": [
    "exoplanets = Exoplanets()\n",
    "solar = SolarSystem()"
   ]
  },
  {
   "cell_type": "markdown",
   "metadata": {},
   "source": [
    "## Built-in Visualizations \n",
    "\n",
    "`exoatlas` has a few pre-defined visualizations. The quickest way to dive into visualizing your exoplanet population might be to start with one of these. Below, we show you how to build up your own visualizations from scratch."
   ]
  },
  {
   "cell_type": "code",
   "execution_count": null,
   "metadata": {},
   "outputs": [],
   "source": [
    "from exoatlas.visualizations import physical_summary, observable_summary\n"
   ]
  },
  {
   "cell_type": "code",
   "execution_count": null,
   "metadata": {},
   "outputs": [],
   "source": [
    "physical_summary([exoplanets, solar]);"
   ]
  },
  {
   "cell_type": "code",
   "execution_count": null,
   "metadata": {},
   "outputs": [],
   "source": [
    "observable_summary([exoplanets, solar]);"
   ]
  },
  {
   "cell_type": "markdown",
   "metadata": {},
   "source": [
    "## Make Your Own Plots with `exoatlas` Data"
   ]
  },
  {
   "cell_type": "markdown",
   "metadata": {},
   "source": [
    "It is, of course, possible to make your own plots using data from `exoatlas` populations. You probably have some brilliant idea, and just working with the raw quantities might be where you want to start. Here's a basic example."
   ]
  },
  {
   "cell_type": "code",
   "execution_count": null,
   "metadata": {},
   "outputs": [],
   "source": [
    "# plot the exoplanets \n",
    "x = exoplanets.relative_insolation()\n",
    "y = exoplanets.radius()\n",
    "plt.scatter(x, y, marker='.', s=5, alpha=0.5)\n",
    "\n",
    "# plot the Solar System planets \n",
    "x = solar.relative_insolation()\n",
    "y = solar.radius()\n",
    "plt.scatter(x, y, marker='s', s=30, color='black')\n",
    "\n",
    "# adjust the plotting details\n",
    "plt.xscale('log')\n",
    "plt.yscale('log')\n",
    "plt.xlabel('Bolometric Flux (relative to Earth)')\n",
    "plt.ylabel('Planet Radius (Earth radii)')\n",
    "plt.xlim(1e5, 1e-5);"
   ]
  },
  {
   "cell_type": "code",
   "execution_count": null,
   "metadata": {},
   "outputs": [],
   "source": [
    "# plot the exoplanets with uncertainties\n",
    "x = exoplanets.relative_insolation()\n",
    "y = exoplanets.radius()\n",
    "x_error = exoplanets.relative_insolation_uncertainty_lowerupper()\n",
    "y_error = exoplanets.radius_uncertainty_lowerupper()\n",
    "plt.errorbar(x, y, xerr=x_error, yerr=y_error, linewidth=0, elinewidth=1, alpha=0.5)\n",
    "\n",
    "# plot the Solar System planets \n",
    "x = solar.relative_insolation()\n",
    "y = solar.radius()\n",
    "plt.scatter(x, y, marker='s', s=30, color='black')\n",
    "\n",
    "# adjust the plotting details\n",
    "plt.xscale('log')\n",
    "plt.yscale('log')\n",
    "plt.xlabel('Bolometric Flux (relative to Earth)')\n",
    "plt.ylabel('Planet Radius (Earth radii)')\n",
    "plt.xlim(1e5, 1e-5);"
   ]
  },
  {
   "cell_type": "markdown",
   "metadata": {},
   "source": [
    "You can build up whatever beautiful, transparent, creative, and useful visualizations you want on your own. \n",
    "\n",
    "However, often we may want to fill a panel with multiple different planet populations, and maybe even across multiple linked plots. That can be a little annoying to keep track of, so we tried to add a few shortcuts to make it easier to sets of quantities for groups of populations. "
   ]
  },
  {
   "cell_type": "code",
   "execution_count": null,
   "metadata": {},
   "outputs": [],
   "source": []
  },
  {
   "cell_type": "markdown",
   "metadata": {},
   "source": [
    "## Make Visualizations from `Plottable`s and `Panel`s\n",
    "\n",
    "Th\n"
   ]
  },
  {
   "cell_type": "code",
   "execution_count": null,
   "metadata": {},
   "outputs": [],
   "source": [
    "exoplanets._colnames"
   ]
  },
  {
   "cell_type": "code",
   "execution_count": null,
   "metadata": {},
   "outputs": [],
   "source": [
    "from exoatlas.visualizations import * "
   ]
  },
  {
   "cell_type": "code",
   "execution_count": null,
   "metadata": {},
   "outputs": [],
   "source": [
    "radius_plottable = Radius()\n"
   ]
  },
  {
   "cell_type": "code",
   "execution_count": null,
   "metadata": {},
   "outputs": [],
   "source": []
  },
  {
   "cell_type": "code",
   "execution_count": null,
   "metadata": {},
   "outputs": [],
   "source": [
    "from matplotlib.colors import LogNorm\n",
    "\n",
    "p = BubblePanel(xaxis=Flux, yaxis=Radius, size=Distance, color=StellarTeff)\n",
    "p\n"
   ]
  },
  {
   "cell_type": "code",
   "execution_count": null,
   "metadata": {},
   "outputs": [],
   "source": []
  },
  {
   "cell_type": "code",
   "execution_count": null,
   "metadata": {},
   "outputs": [],
   "source": [
    "x = 'a' \n",
    "f'{x:>10}'"
   ]
  },
  {
   "cell_type": "code",
   "execution_count": null,
   "metadata": {},
   "outputs": [],
   "source": [
    "p.build([exoplanets, solar])\n"
   ]
  },
  {
   "cell_type": "code",
   "execution_count": null,
   "metadata": {},
   "outputs": [],
   "source": [
    "p.plottable"
   ]
  },
  {
   "cell_type": "code",
   "execution_count": null,
   "metadata": {},
   "outputs": [],
   "source": []
  }
 ],
 "metadata": {
  "kernelspec": {
   "display_name": "exoatlas",
   "language": "python",
   "name": "python3"
  },
  "language_info": {
   "codemirror_mode": {
    "name": "ipython",
    "version": 3
   },
   "file_extension": ".py",
   "mimetype": "text/x-python",
   "name": "python",
   "nbconvert_exporter": "python",
   "pygments_lexer": "ipython3",
   "version": "3.13.2"
  }
 },
 "nbformat": 4,
 "nbformat_minor": 2
}
