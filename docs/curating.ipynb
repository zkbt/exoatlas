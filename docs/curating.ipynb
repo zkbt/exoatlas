{
 "cells": [
  {
   "cell_type": "markdown",
   "metadata": {},
   "source": [
    "#  Curating\n",
    "\n",
    "Sometimes, you might have good reason to want to replace some of the values in a `Population` with better ones. Maybe you prefer one reference over another, maybe you have some unpublished measurements you want to include, or maybe you just want to experiment with changing some values. This page mostly discusses curating the data inside an `Exoplanet` population, but some of the methods might generally apply to other populations. "
   ]
  },
  {
   "cell_type": "code",
   "execution_count": null,
   "metadata": {},
   "outputs": [],
   "source": [
    "import exoatlas as ea\n",
    "ea.version()"
   ]
  },
  {
   "cell_type": "markdown",
   "metadata": {},
   "source": [
    "### Changes are Temporary \n",
    "\n",
    "Please note, the changes made with `update_reference` or `update_values` will take place only within the current Python session. The underlying standardized data file is unchanged. The bottom of this page shows instructions for saving and loading a curated population."
   ]
  },
  {
   "cell_type": "markdown",
   "metadata": {},
   "source": [
    "### Using Different References in an `Exoplanet` Population\n",
    "\n",
    "The main data in the `Exoplanets` population come from the NASA Exoplanet Archive Planetary Systems Composite Parameters table. There is one entry in this population for each planet in the archive."
   ]
  },
  {
   "cell_type": "code",
   "execution_count": null,
   "metadata": {},
   "outputs": [],
   "source": [
    "e = ea.Exoplanets()\n",
    "e"
   ]
  },
  {
   "cell_type": "markdown",
   "metadata": {},
   "source": [
    "If we want to see all individual references for each planet, which is a much larger table containing many more rows than there are planets, we'll need to load a `.individual_references` population. It might take a while."
   ]
  },
  {
   "cell_type": "code",
   "execution_count": null,
   "metadata": {},
   "outputs": [],
   "source": [
    "e.load_individual_references()"
   ]
  },
  {
   "cell_type": "markdown",
   "metadata": {},
   "source": [
    "Once that's loaded, there's a secret sneaky internal population that we can access through the `.individual_references` attribute, containing every reference for every planet in the archive."
   ]
  },
  {
   "cell_type": "code",
   "execution_count": null,
   "metadata": {},
   "outputs": [],
   "source": [
    "e.individual_references"
   ]
  },
  {
   "cell_type": "markdown",
   "metadata": {},
   "source": [
    "Now, let's say we want to update what reference is being used to provide the `period` (and related) values for a particular planet. First, we can check what the options are with `.display_individual_references`. "
   ]
  },
  {
   "cell_type": "code",
   "execution_count": null,
   "metadata": {},
   "outputs": [],
   "source": [
    "e.display_individual_references(planets='HD189733b', keys='period')"
   ]
  },
  {
   "cell_type": "markdown",
   "metadata": {},
   "source": [
    "Then, we can update the population to use one of those options instead of the default."
   ]
  },
  {
   "cell_type": "code",
   "execution_count": 6,
   "metadata": {},
   "outputs": [],
   "source": [
    "e.update_reference(planets='HD189733b', references='Ivshina + Winn 2022')"
   ]
  },
  {
   "cell_type": "markdown",
   "metadata": {},
   "source": [
    "Finally, we can confirm that our change took effect, by checking the references again."
   ]
  },
  {
   "cell_type": "code",
   "execution_count": null,
   "metadata": {},
   "outputs": [],
   "source": [
    "e.display_individual_references(planets='HD189733b', keys='period')"
   ]
  },
  {
   "cell_type": "markdown",
   "metadata": {},
   "source": [
    "### Updating Values in an `Exoplanet` Population\n",
    "\n",
    "If we have some custom values we'd like to apply to a planet, we can update its data with the `.update_value` wrapper. \n"
   ]
  },
  {
   "cell_type": "code",
   "execution_count": null,
   "metadata": {},
   "outputs": [],
   "source": [
    "import astropy.units as u \n",
    "e.update_values(planets='HD189733b', radius=1*u.R_jupiter, radius_uncertainty=0.1*u.R_jupiter)"
   ]
  },
  {
   "cell_type": "code",
   "execution_count": null,
   "metadata": {},
   "outputs": [],
   "source": [
    "e['HD189733'].radius"
   ]
  },
  {
   "cell_type": "markdown",
   "metadata": {},
   "source": [
    "### Curating Your Own Exoplanet Population\n",
    "\n",
    "You might want to be able to regularly curate many changes to the default exoplanet parameters from the NASA Exoplanet Archive, and also be able to reapply those changes even when downloading newly updated archive data. In general, that might look like the following:\n",
    "\n",
    "- Write a function called something like `curate_population()`, that makes the changes you want by serialling combining `.update_reference` and `.update_values`. You might consider saving this function in a local module and importing it whenever you need it.\n",
    "- Generate an `Exoplanets` population (or some subset of it), and apply your function to it. This function will change the population in-place; if you want to access the unmodified parameters, you'll need to create a new population. \n",
    "- If you want to save and reuse your curation, use the `population_to_save.save(filename)` method to save your curated population out to a local file and `loaded_population = Population(filename)` to load it back in. "
   ]
  },
  {
   "cell_type": "code",
   "execution_count": 10,
   "metadata": {},
   "outputs": [],
   "source": [
    "import exoatlas as ea"
   ]
  },
  {
   "cell_type": "code",
   "execution_count": 11,
   "metadata": {},
   "outputs": [],
   "source": [
    "def curate_population(x):\n",
    "    '''\n",
    "    Curate the values in an exoplanet population by \n",
    "    making small changes to the values being used.\n",
    "\n",
    "    Parameters \n",
    "    ---------- \n",
    "    x : exoatlas.populations.Exoplanets\n",
    "        An exoplanet population that needs to be curated. \n",
    "\n",
    "    Returns\n",
    "    -------\n",
    "    Nothing, but the population `x` has been modified \n",
    "    in place with updated values and/or reference choices. \n",
    "    '''\n",
    "\n",
    "    # (down)load the individual references\n",
    "    x.load_individual_references()\n",
    "\n",
    "    # update the reference for a planet's period/epoch\n",
    "    x.update_reference(planets='HD189733b', references='Ivshina + Winn 2022')\n",
    "\n",
    "    # update another value \n",
    "    x.update_values(planets='HD189733b', radius=1*u.R_jupiter, radius_uncertainty=0.1*u.R_jupiter)  "
   ]
  },
  {
   "cell_type": "code",
   "execution_count": null,
   "metadata": {},
   "outputs": [],
   "source": [
    "e = ea.TransitingExoplanets()\n",
    "e = e[e.distance() < 50*u.pc]\n",
    "curate_population(e)"
   ]
  },
  {
   "cell_type": "code",
   "execution_count": null,
   "metadata": {},
   "outputs": [],
   "source": [
    "e.save('curated-population.ecsv')"
   ]
  },
  {
   "cell_type": "code",
   "execution_count": null,
   "metadata": {},
   "outputs": [],
   "source": [
    "curated_and_saved = ea.Population('curated-population.ecsv')\n",
    "curated_and_saved['HD189733'].radius()"
   ]
  },
  {
   "cell_type": "markdown",
   "metadata": {},
   "source": [
    "## 🔔 Problems: 🔔\n",
    "\n",
    "*Please note there are still a couple of problems that need solving:*\n",
    "\n",
    "- A curated population that has been saved out to a file and then reloaded via `Population(filename)` will (currently) always load in as a `Population` object. It therefore won't have any of the special powers of the speciality predefined populations like `Exoplanets`. \n",
    "- Sometimes (?) trying to due curation with `update_reference` gobbles up bonkers memory, presumably something to do with trying to index large tables many times. This might potentially be solvable with some more careful memory management or index-resetting? Curating mostly works, but sometimes it feels like there's a monster lurking underneath.\n",
    "\n",
    "If any of these problems are catastrophic for your, please open an issue and we'll try to fix it!*"
   ]
  },
  {
   "cell_type": "markdown",
   "metadata": {},
   "source": []
  }
 ],
 "metadata": {
  "kernelspec": {
   "display_name": "2024",
   "language": "python",
   "name": "python3"
  },
  "language_info": {
   "codemirror_mode": {
    "name": "ipython",
    "version": 3
   },
   "file_extension": ".py",
   "mimetype": "text/x-python",
   "name": "python",
   "nbconvert_exporter": "python",
   "pygments_lexer": "ipython3",
   "version": "3.12.3"
  }
 },
 "nbformat": 4,
 "nbformat_minor": 2
}
