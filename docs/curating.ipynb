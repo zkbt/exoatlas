{
 "cells": [
  {
   "cell_type": "markdown",
   "metadata": {},
   "source": [
    "#  Curating\n",
    "\n",
    "Sometimes, you might have good reason to want to replace some of the values in a `Population` with better ones. Maybe you prefer one reference over another, maybe you have some unpublished measurements you want to include, or maybe you just want to experiment with changing some values. This page mostly discusses curating the data inside an `Exoplanet` population, but some of the methods might generally apply to other populations. "
   ]
  },
  {
   "cell_type": "code",
   "execution_count": null,
   "metadata": {},
   "outputs": [],
   "source": [
    "from exoatlas import *"
   ]
  },
  {
   "cell_type": "markdown",
   "metadata": {},
   "source": [
    "### Using Different References in an `Exoplanet` Population\n",
    "\n",
    "The main data in the `Exoplanets` population come from the NASA Exoplanet Archive Planetary Systems Composite Parameters table. If you want to see all individual references for each planet, which is a much larger table containing many more rows than there are planets, you'll need to load a `.individual_references` population. It might take a while."
   ]
  },
  {
   "cell_type": "code",
   "execution_count": null,
   "metadata": {},
   "outputs": [],
   "source": [
    "e = Exoplanets()"
   ]
  },
  {
   "cell_type": "code",
   "execution_count": null,
   "metadata": {},
   "outputs": [],
   "source": [
    "e.load_individual_references()"
   ]
  },
  {
   "cell_type": "code",
   "execution_count": null,
   "metadata": {},
   "outputs": [],
   "source": [
    "one = e['HD 209458b']"
   ]
  },
  {
   "cell_type": "code",
   "execution_count": null,
   "metadata": {},
   "outputs": [],
   "source": [
    "one.standard"
   ]
  },
  {
   "cell_type": "code",
   "execution_count": null,
   "metadata": {},
   "outputs": [],
   "source": [
    "one.individual_references.standard"
   ]
  },
  {
   "cell_type": "code",
   "execution_count": null,
   "metadata": {},
   "outputs": [],
   "source": [
    "def compare_to_individual_references(pop, x = 'mass', y = 'radius'):\n",
    "    for p, c in zip([pop.individual_references, pop], ['orchid', 'black']):\n",
    "        plt.errorbar(p.get(x), \n",
    "                    p.get(y), \n",
    "                    p.uncertainty_lowerupper(y), \n",
    "                    p.uncertainty_lowerupper(x),\n",
    "                    linewidth=0, \n",
    "                    elinewidth=1, \n",
    "                    marker='o', \n",
    "                    color=c, \n",
    "                    label=p.label)\n",
    "    plt.xlabel(x); plt.ylabel(y); plt.legend();\n"
   ]
  },
  {
   "cell_type": "code",
   "execution_count": null,
   "metadata": {},
   "outputs": [],
   "source": [
    "compare_to_individual_references(one)"
   ]
  },
  {
   "cell_type": "markdown",
   "metadata": {},
   "source": []
  }
 ],
 "metadata": {
  "kernelspec": {
   "display_name": "2024",
   "language": "python",
   "name": "python3"
  },
  "language_info": {
   "codemirror_mode": {
    "name": "ipython",
    "version": 3
   },
   "file_extension": ".py",
   "mimetype": "text/x-python",
   "name": "python",
   "nbconvert_exporter": "python",
   "pygments_lexer": "ipython3",
   "version": "3.12.3"
  }
 },
 "nbformat": 4,
 "nbformat_minor": 2
}
