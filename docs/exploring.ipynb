{
 "cells": [
  {
   "cell_type": "markdown",
   "metadata": {},
   "source": [
    "# Exploring\n",
    "\n",
    "An exoplanet `Population` is designed to be a (hopefully!) relatively easy way to interact with data for a group of exoplanet systems. Here we step through the basics of how we can explore a population of planets, access standardized planet properties, and filter subsets of planet populations."
   ]
  },
  {
   "cell_type": "markdown",
   "metadata": {},
   "source": [
    "## Getting started\n",
    "The `exoatlas` package contains the tools we will use. All planet properties inside a population have astropy [units](https://docs.astropy.org/en/stable/units/) associated with them, so we make also want to have access to those units for our calculations."
   ]
  },
  {
   "cell_type": "code",
   "execution_count": null,
   "metadata": {},
   "outputs": [],
   "source": [
    "import exoatlas as ea\n",
    "\n",
    "ea.version()"
   ]
  },
  {
   "cell_type": "markdown",
   "metadata": {},
   "source": [
    "## Create a `Population`\n",
    "Now, to get started, we'll make a population that contains all confirmed transiting exoplanets. We can read more about the different populations we can create over one the [Creating](creating.html) page. When we create this population, the code will download a table of the latest data from the NASA Exoplanet Archive."
   ]
  },
  {
   "cell_type": "code",
   "execution_count": null,
   "metadata": {},
   "outputs": [],
   "source": [
    "pop = ea.TransitingExoplanets()"
   ]
  },
  {
   "cell_type": "markdown",
   "metadata": {},
   "source": [
    "## What's inside a `Population`?\n",
    "The core ingredient to an exoplanet `Population` is a table of planet properties that have been standardized and populated with astropy units. This `pop.standard` table is an astropy [Table](https://docs.astropy.org/en/stable/table/), so its contents can be accessed or modified as any other astropy `Table`."
   ]
  },
  {
   "cell_type": "code",
   "execution_count": null,
   "metadata": {},
   "outputs": [],
   "source": [
    "pop.standard"
   ]
  },
  {
   "cell_type": "markdown",
   "metadata": {},
   "source": [
    "If desired, columns could be added to this standardized table:"
   ]
  },
  {
   "cell_type": "code",
   "execution_count": null,
   "metadata": {},
   "outputs": [],
   "source": [
    "import numpy as np\n",
    "\n",
    "N = len(pop)\n",
    "pop.standard[\"something\"] = np.arange(N) + 5"
   ]
  },
  {
   "cell_type": "markdown",
   "metadata": {},
   "source": [
    "## How do we access planet properties?\n",
    "The main way to access planet properties within a `Population` is with its attributes. That is, we can access an array of the values for some property `x` by calling `pop.x`. Behind the scenes, the population will look to see if there is a column called `\"x\"` in the standardized table and return that column. For example, we can get an array of planet names with:"
   ]
  },
  {
   "cell_type": "code",
   "execution_count": null,
   "metadata": {},
   "outputs": [],
   "source": [
    "pop.name"
   ]
  },
  {
   "cell_type": "markdown",
   "metadata": {},
   "source": [
    "Even columns that we separately added to the standardized table can be accessed as attributes:"
   ]
  },
  {
   "cell_type": "code",
   "execution_count": null,
   "metadata": {},
   "outputs": [],
   "source": [
    "pop.something"
   ]
  },
  {
   "cell_type": "markdown",
   "metadata": {},
   "source": [
    "We also have access to quantities that are not directly included in the table itself but can be calculated from them. For example, we can get an array of the amount of insolation that the planets receive from their stars as:"
   ]
  },
  {
   "cell_type": "code",
   "execution_count": null,
   "metadata": {
    "scrolled": true
   },
   "outputs": [],
   "source": [
    "pop.insolation"
   ]
  },
  {
   "cell_type": "markdown",
   "metadata": {},
   "source": [
    "In this case, the insolation is calculated from the planet's orbital separation and the luminosity of the star (which is itself calculated from the stellar effective temperature and radius).\n",
    "\n",
    "If information needed to do a calculation is missing, `exoatlas` will try to estimate them from other available information. In the `.insolation` case, some planets had no semimajor axes defined in the `.standard` table, but we were able to calculate this quantity from the orbital period, the stellar mass, and Newton's Version of Kepler's 3rd Law."
   ]
  },
  {
   "cell_type": "markdown",
   "metadata": {},
   "source": [
    "Short descriptions of some common attributes can printed with the `describe_columns()` function."
   ]
  },
  {
   "cell_type": "code",
   "execution_count": null,
   "metadata": {},
   "outputs": [],
   "source": [
    "ea.describe_columns()"
   ]
  },
  {
   "cell_type": "markdown",
   "metadata": {},
   "source": [
    "With this toolkit, you can now access the data you need to make some pretty fundamental plots in exoplanetary science. For example:"
   ]
  },
  {
   "cell_type": "code",
   "execution_count": null,
   "metadata": {},
   "outputs": [],
   "source": [
    "import matplotlib.pyplot as plt\n",
    "\n",
    "plt.loglog(pop.relative_insolation, pop.radius, \".\")\n",
    "plt.xlabel(\"Flux Received (relative to Earth)\")\n",
    "plt.ylabel(\"Planet Radius (Earth radii)\");"
   ]
  },
  {
   "cell_type": "markdown",
   "metadata": {},
   "source": [
    "## How do we access some sub-population of planets?\n",
    "Often we'll want to pull out some subset of a population. We might want a smaller sample of planets, or all the planets that meet some particular criterion, or maybe the properties of one individual planet. In our experience with `numpy` arrays or `astropy` tables, we've often done this by indexing (`x[0]` or `x[[0, 1, 5]]`), slicing (`x[3:30]`), or masking (`x[some_array > some_other_array]`). \n",
    "\n",
    "We can apply the same methods to a `Population`, creating smaller populations by indexing, slicing, or masking. Anything we can do with a `Population` we can do with one of these sub-`Population`s that we create."
   ]
  },
  {
   "cell_type": "code",
   "execution_count": null,
   "metadata": {},
   "outputs": [],
   "source": [
    "pop"
   ]
  },
  {
   "cell_type": "code",
   "execution_count": null,
   "metadata": {},
   "outputs": [],
   "source": [
    "one_planet = pop[0]\n",
    "one_planet"
   ]
  },
  {
   "cell_type": "code",
   "execution_count": null,
   "metadata": {},
   "outputs": [],
   "source": [
    "one_planet.name, one_planet.radius, one_planet.insolation"
   ]
  },
  {
   "cell_type": "code",
   "execution_count": null,
   "metadata": {},
   "outputs": [],
   "source": [
    "prime_planets = pop[[2, 3, 5, 7, 11, 13, 17, 19, 23]]\n",
    "prime_planets"
   ]
  },
  {
   "cell_type": "code",
   "execution_count": null,
   "metadata": {},
   "outputs": [],
   "source": [
    "first_ten = pop[:10]\n",
    "first_ten"
   ]
  },
  {
   "cell_type": "code",
   "execution_count": null,
   "metadata": {},
   "outputs": [],
   "source": [
    "every_other_exoplanet = pop[::2]\n",
    "every_other_exoplanet"
   ]
  },
  {
   "cell_type": "code",
   "execution_count": null,
   "metadata": {},
   "outputs": [],
   "source": [
    "import astropy.units as u\n",
    "\n",
    "small = pop[pop.radius < 4 * u.Rearth]\n",
    "small"
   ]
  },
  {
   "cell_type": "markdown",
   "metadata": {},
   "source": [
    "Additionally, we can extract an individual planet or a list of planets by indexing the population with planet name(s). This is using astropy tables' `.loc` functionality, with `\"name\"` being used as an index."
   ]
  },
  {
   "cell_type": "code",
   "execution_count": null,
   "metadata": {},
   "outputs": [],
   "source": [
    "cute_planet = pop[\"GJ 1214b\"]\n",
    "cute_planet"
   ]
  },
  {
   "cell_type": "code",
   "execution_count": null,
   "metadata": {},
   "outputs": [],
   "source": [
    "cute_planets = pop[[\"LHS 1140b\", \"GJ 1214b\", \"GJ 436b\"]]\n",
    "cute_planets"
   ]
  },
  {
   "cell_type": "markdown",
   "metadata": {},
   "source": [
    "## Explore!\n",
    "That's about it. For more information about different pre-defined populations see [Creating](creating.html), and for more about pre-packaged visualizations see [Visualizing](visualizing.html)."
   ]
  }
 ],
 "metadata": {
  "kernelspec": {
   "display_name": "Python 3",
   "language": "python",
   "name": "python3"
  },
  "language_info": {
   "codemirror_mode": {
    "name": "ipython",
    "version": 3
   },
   "file_extension": ".py",
   "mimetype": "text/x-python",
   "name": "python",
   "nbconvert_exporter": "python",
   "pygments_lexer": "ipython3",
   "version": "3.12.3"
  }
 },
 "nbformat": 4,
 "nbformat_minor": 2
}
