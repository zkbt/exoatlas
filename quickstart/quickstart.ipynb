{
 "cells": [
  {
   "cell_type": "markdown",
   "metadata": {},
   "source": [
    "# Quickstart\n",
    "Let's take a brief whirlwind tour of some of the basic tools in `exoatlas`. Most of the concepts seen here are decribed in more detail later, but hopefully this is enough for you to get started!"
   ]
  },
  {
   "cell_type": "code",
   "execution_count": null,
   "metadata": {},
   "outputs": [],
   "source": [
    "import exoatlas as ea\n",
    "import exoatlas.visualizations as vi\n",
    "import astropy.units as u \n",
    "\n",
    "ea.version()"
   ]
  },
  {
   "cell_type": "markdown",
   "metadata": {},
   "source": [
    "## 🌌 Make Populations of Planets\n",
    "\n",
    "`exoatlas` can create objects containing properties for large samples of planets. Solar System planets come from [JPL Solar System Dynamics](https://ssd.jpl.nasa.gov), and exoplanets come from the [NASA Exoplanet Archive](https://exoplanetarchive.ipac.caltech.edu)."
   ]
  },
  {
   "cell_type": "code",
   "execution_count": null,
   "metadata": {},
   "outputs": [],
   "source": [
    "solar = ea.SolarSystem()\n",
    "solar"
   ]
  },
  {
   "cell_type": "code",
   "execution_count": null,
   "metadata": {},
   "outputs": [],
   "source": [
    "exoplanets = ea.Exoplanets() \n",
    "exoplanets"
   ]
  },
  {
   "cell_type": "markdown",
   "metadata": {},
   "source": [
    "## 🧮 Extract Quantities and Uncertainties\n",
    "\n",
    "For a population, `exoatlas` can provide easy access to archival table columns and their uncertainties. All quantities have [`astropy.units`](https://docs.astropy.org/en/stable/units/index.html) attached to them, to minimize confusion about unit conversion."
   ]
  },
  {
   "cell_type": "code",
   "execution_count": null,
   "metadata": {},
   "outputs": [],
   "source": [
    "exoplanets.mass()"
   ]
  },
  {
   "cell_type": "code",
   "execution_count": null,
   "metadata": {},
   "outputs": [],
   "source": [
    "exoplanets.mass_uncertainty()"
   ]
  },
  {
   "cell_type": "markdown",
   "metadata": {},
   "source": [
    "`exoatlas` can also calculate derived quantities and use [`astropy.uncertainty`](https://docs.astropy.org/en/stable/uncertainty/index.html) to propagate uncertainties for those derived quantities. "
   ]
  },
  {
   "cell_type": "code",
   "execution_count": null,
   "metadata": {},
   "outputs": [],
   "source": [
    "exoplanets.insolation()"
   ]
  },
  {
   "cell_type": "code",
   "execution_count": null,
   "metadata": {},
   "outputs": [],
   "source": [
    "exoplanets.insolation_uncertainty()"
   ]
  },
  {
   "cell_type": "code",
   "execution_count": null,
   "metadata": {},
   "outputs": [],
   "source": [
    "exoplanets.insolation_uncertainty()/exoplanets.insolation()"
   ]
  },
  {
   "cell_type": "markdown",
   "metadata": {},
   "source": [
    "## ⚗️ Filter Populations by Properties\n",
    "\n",
    "`exoatlas` can extract subsets of populations, selecting planets just in a specific range of interest for particular properties. These subsets have all the same powers as their parent populations. By setting attributes for these subset populations, we can affect how they'll be visualized."
   ]
  },
  {
   "cell_type": "code",
   "execution_count": null,
   "metadata": {},
   "outputs": [],
   "source": [
    "nearby = exoplanets[exoplanets.distance() < 30*u.pc]\n",
    "nearby.label = 'Nearby'\n",
    "nearby.color = 'coral'\n",
    "nearby.marker = 'P'\n",
    "nearby.size = 20\n",
    "nearby"
   ]
  },
  {
   "cell_type": "code",
   "execution_count": null,
   "metadata": {},
   "outputs": [],
   "source": [
    "easy = exoplanets[exoplanets.transmission_snr(telescope='JWST', wavelength=4*u.micron) > 10]\n",
    "easy.label = 'Easy'\n",
    "easy.color='orchid'\n",
    "easy.marker='*'\n",
    "easy.outlined=True \n",
    "easy.filled=False \n",
    "easy.size=100\n",
    "easy.annotate_planets = True\n",
    "easy"
   ]
  },
  {
   "cell_type": "code",
   "execution_count": null,
   "metadata": {},
   "outputs": [],
   "source": [
    "first = exoplanets['HD209458b']\n",
    "first.size = 500\n",
    "first.color = 'magenta'\n",
    "first"
   ]
  },
  {
   "cell_type": "markdown",
   "metadata": {},
   "source": [
    "## 🎨 Visualize Populations Together \n",
    "\n",
    "`exoatlas` provides some built-in visualizations, as well as a framework for constructing new plots that can easily compare multiple populations to each other."
   ]
  },
  {
   "cell_type": "code",
   "execution_count": null,
   "metadata": {},
   "outputs": [],
   "source": [
    "ps = vi.PlanetGallery()\n",
    "ps.build([solar, exoplanets, nearby, easy, first])\n"
   ]
  },
  {
   "cell_type": "markdown",
   "metadata": {},
   "source": [
    "Gosh, what a complicated plot! But at least it demonstrates lots of ways of visualizing populations!"
   ]
  },
  {
   "cell_type": "markdown",
   "metadata": {},
   "source": [
    "## 📓 Create Tables\n",
    "\n",
    "`exoatlas` can save populations out into tables, for whatever other purposes you want!"
   ]
  },
  {
   "cell_type": "code",
   "execution_count": null,
   "metadata": {},
   "outputs": [],
   "source": [
    "easy.create_planning_table()"
   ]
  },
  {
   "cell_type": "markdown",
   "metadata": {},
   "source": [
    "## 🎉 and more...\n",
    "\n",
    "Please explore the rest of the documentation to learn if/how you can use `exoatlas` to help with your research or teaching or learning!"
   ]
  }
 ],
 "metadata": {
  "kernelspec": {
   "display_name": "exoatlas",
   "language": "python",
   "name": "python3"
  },
  "language_info": {
   "codemirror_mode": {
    "name": "ipython",
    "version": 3
   },
   "file_extension": ".py",
   "mimetype": "text/x-python",
   "name": "python",
   "nbconvert_exporter": "python",
   "pygments_lexer": "ipython3",
   "version": "3.13.2"
  }
 },
 "nbformat": 4,
 "nbformat_minor": 4
}
