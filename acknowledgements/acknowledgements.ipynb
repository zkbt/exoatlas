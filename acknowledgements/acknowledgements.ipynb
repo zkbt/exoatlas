{
 "cells": [
  {
   "cell_type": "markdown",
   "metadata": {},
   "source": [
    "# Acknowledgements\n",
    "\n",
    "We gratefully acknowledge the effort and financial support that have gone into this open-source code tool."
   ]
  },
  {
   "cell_type": "markdown",
   "metadata": {},
   "source": [
    "## Authors\n",
    "\n",
    "This package results from the generous collaborative efforts of scientists all over the world. The list of of [contributors on GitHub](https://github.com/zkbt/exoatlas/graphs/contributors) is the most up-to-date reference of who has helped. "
   ]
  },
  {
   "cell_type": "markdown",
   "metadata": {},
   "source": [
    "## Data\n",
    "\n",
    "The data underlying `exoatlas` comes from the hugely important and generous efforts of two main archives.\n",
    "\n",
    "- [NASA Exoplanet Archive](https://exoplanetarchive.ipac.caltech.edu/) provides exoplanet data for `Exoplanets`, `TransitingExoplaets`, and other related populations. If you use these populations, you can use the AAS facility keyword `\\facility{Exoplanet Archive}` and include the statement in your acknowledgements: *This research has made use of the NASA Exoplanet Archive, which is operated by the California Institute of Technology, under contract with the National Aeronautics and Space Administration under the Exoplanet Exploration Program.*\n",
    "\n",
    "- [NASA/JPL Solar System Dynamics](https://ssd.jpl.nasa.gov/) provides most of the Solar System data for `SolarSystem`, `SolarSystemDwarfPlanets`, `SolarSystemMinorPlanets`, `SolarSystemMoons`, and other related populations. If you use these populations, you should please include the following citation: *Solar System Dynamics. (Downloaded Year, Month, Date). (Title of the Page). https://ssd.jpl.nasa.gov*\n"
   ]
  },
  {
   "cell_type": "markdown",
   "metadata": {},
   "source": [
    "## Funding \n",
    "*This material is based upon work supported by the National Science Foundation under Grant Number 1945633.*\n",
    "\n",
    "*Any opinions, findings, and conclusions or recommendations expressed in this material are those of the author(s) and do not necessarily reflect the views of the National Science Foundation.*"
   ]
  }
 ],
 "metadata": {
  "kernelspec": {
   "display_name": "2024",
   "language": "python",
   "name": "python3"
  },
  "language_info": {
   "codemirror_mode": {
    "name": "ipython",
    "version": 3
   },
   "file_extension": ".py",
   "mimetype": "text/x-python",
   "name": "python",
   "nbconvert_exporter": "python",
   "pygments_lexer": "ipython3",
   "version": "3.12.3"
  }
 },
 "nbformat": 4,
 "nbformat_minor": 2
}
